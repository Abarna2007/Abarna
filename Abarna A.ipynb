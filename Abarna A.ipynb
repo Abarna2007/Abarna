{
 "cells": [
  {
   "cell_type": "code",
   "execution_count": 1,
   "id": "8ccadf2e-0b18-418d-a457-4ed7e65ca095",
   "metadata": {},
   "outputs": [
    {
     "name": "stdout",
     "output_type": "stream",
     "text": [
      "     Employee ID         Full Name                   Job Title   Department  \\\n",
      "0         E02002            Kai Le           Controls Engineer  Engineering   \n",
      "1         E02003      Robert Patel                     Analyst        Sales   \n",
      "2         E02004        Cameron Lo       Network Administrator           IT   \n",
      "3         E02005   Harper Castillo        IT Systems Architect           IT   \n",
      "4         E02006  Harper Dominguez                    Director  Engineering   \n",
      "...          ...               ...                         ...          ...   \n",
      "1257      E02250          Mila Han                     Manager        Sales   \n",
      "1258      E02251   Genesis Herrera                     Manager           IT   \n",
      "1259      E02252    Olivia Vazquez            Network Engineer           IT   \n",
      "1260      E02253        Leilani Ng             Systems Analyst           IT   \n",
      "1261      E02254    Olivia Mendoza  Sr. Account Representative        Sales   \n",
      "\n",
      "               Business Unit  Gender Ethnicity   Age   Hire Date  \\\n",
      "0              Manufacturing    Male     Asian  47.0    2/5/2022   \n",
      "1                  Corporate    Male     Asian  58.0  10/23/2013   \n",
      "2     Research & Development    Male     Asian  34.0   3/24/2019   \n",
      "3                  Corporate  Female    Latino  39.0    4/7/2018   \n",
      "4                  Corporate  Female    Latino  42.0   6/18/2005   \n",
      "...                      ...     ...       ...   ...         ...   \n",
      "1257           Manufacturing  Female     Asian  54.0  11/14/2009   \n",
      "1258  Research & Development  Female    Latino  34.0   10/3/2015   \n",
      "1259      Specialty Products  Female    Latino  53.0   4/13/2020   \n",
      "1260               Corporate  Female     Asian  48.0   9/19/2011   \n",
      "1261               Corporate  Female    Latino  43.0    5/7/2017   \n",
      "\n",
      "     Annual Salary Bonus %        Country       City   Exit Date  \n",
      "0         $92,368       0%  United States   Columbus         NaN  \n",
      "1         $45,703       0%  United States    Chicago         NaN  \n",
      "2         $83,576       0%          China   Shanghai         NaN  \n",
      "3         $98,062       0%  United States    Seattle         NaN  \n",
      "4        $175,391      24%  United States     Austin         NaN  \n",
      "...            ...     ...            ...        ...         ...  \n",
      "1257     $128,791       6%  United States      Miami         NaN  \n",
      "1258     $126,898      10%         Brazil     Manaus         NaN  \n",
      "1259      $93,053       0%         Brazil  Sao Paulo         NaN  \n",
      "1260      $50,513       0%  United States    Seattle  10/30/2019  \n",
      "1261      $86,533       0%  United States   Columbus         NaN  \n",
      "\n",
      "[1262 rows x 14 columns]\n"
     ]
    }
   ],
   "source": [
    "import pandas as pd\n",
    "\n",
    "\n",
    "df = pd.read_csv('EmployeeSampleData2.csv',encoding='ISO-8859-1')\n",
    "print(df)"
   ]
  },
  {
   "cell_type": "code",
   "execution_count": 2,
   "id": "f2ef8a04-0263-4848-89c5-0684daf87fb2",
   "metadata": {},
   "outputs": [],
   "source": [
    "def indexData(collection, exclude_column):\n",
    "    return collection.drop(columns=[exclude_column])"
   ]
  },
  {
   "cell_type": "code",
   "execution_count": 3,
   "id": "3b7fe29b-43fd-4e20-bbe4-032da224f89e",
   "metadata": {},
   "outputs": [],
   "source": [
    "def delEmpById(collection, employee_id):\n",
    "    return collection[collection['Employee ID'] != employee_id]"
   ]
  },
  {
   "cell_type": "code",
   "execution_count": 4,
   "id": "24d76d46-257e-4c05-ba49-74eb1ca5a4e5",
   "metadata": {},
   "outputs": [],
   "source": [
    "# Create a collection (in this case, we will use a DataFrame)\n",
    "def createCollection(collection_name):\n",
    "    return pd.DataFrame()\n",
    "\n",
    "# Index the data into the specified collection excluding the given column\n",
    "def indexData(collection, data, exclude_column):\n",
    "    return data.drop(columns=[exclude_column])\n",
    "\n",
    "# Search within the specified collection\n",
    "def searchByColumn(collection, column_name, column_value):\n",
    "    return collection[collection[column_name] == column_value]\n",
    "\n",
    "# Get employee count\n",
    "def getEmpCount(collection):\n",
    "    return len(collection)\n",
    "\n",
    "# Delete an employee by ID\n",
    "def delEmpById(collection, employee_id):\n",
    "    return collection[collection['EmployeeID'] != employee_id]\n",
    "\n",
    "# Get department facet\n",
    "def getDepFacet(collection):\n",
    "    return collection['Department'].value_counts()"
   ]
  },
  {
   "cell_type": "code",
   "execution_count": 5,
   "id": "f5b32143-0632-44d8-a974-0571fee2b426",
   "metadata": {},
   "outputs": [],
   "source": [
    "def searchByColumn(collection, column_name, column_value):\n",
    "    return collection[collection[column_name] == column_value]"
   ]
  },
  {
   "cell_type": "code",
   "execution_count": 6,
   "id": "043b8ad9-f9e4-402b-b3f7-3d412be08081",
   "metadata": {},
   "outputs": [],
   "source": [
    "def getEmpCount(collection):\n",
    "    return len(collection)"
   ]
  },
  {
   "cell_type": "code",
   "execution_count": 7,
   "id": "77510075-f03e-4665-9c7f-16bd8b289152",
   "metadata": {},
   "outputs": [],
   "source": [
    "def getDepFacet(collection):\n",
    "    return collection['Department'].value_counts()"
   ]
  },
  {
   "cell_type": "code",
   "execution_count": 8,
   "id": "4589cb6c-740a-4947-b40f-783cd2ad87b4",
   "metadata": {},
   "outputs": [
    {
     "name": "stdout",
     "output_type": "stream",
     "text": [
      "Name Collection created successfully.\n",
      "Phone Collection created successfully.\n"
     ]
    }
   ],
   "source": [
    "# Function Executions\n",
    "v_nameCollection = 'sujithkumar'\n",
    "v_phoneCollection = '1020'\n",
    "\n",
    "# Create collections\n",
    "name_collection = createCollection(v_nameCollection)\n",
    "print(\"Name Collection created successfully.\")\n",
    "\n",
    "phone_collection = createCollection(v_phoneCollection)\n",
    "print(\"Phone Collection created successfully.\")"
   ]
  },
  {
   "cell_type": "code",
   "execution_count": 9,
   "id": "c4ee52bc-1e40-487a-8937-224c126f877b",
   "metadata": {},
   "outputs": [
    {
     "name": "stdout",
     "output_type": "stream",
     "text": [
      "Employee Count (Name Collection): 0\n"
     ]
    }
   ],
   "source": [
    "# Get employee count\n",
    "print(\"Employee Count (Name Collection):\", getEmpCount(name_collection))"
   ]
  },
  {
   "cell_type": "code",
   "execution_count": 10,
   "id": "5b61eb43-a224-43cf-9bbb-f4366d1df432",
   "metadata": {},
   "outputs": [],
   "source": [
    "# Function Definitions\n",
    "def createCollection(collection_name):\n",
    "    return employee_df.copy()  # Create a new DataFrame based on the existing one"
   ]
  },
  {
   "cell_type": "code",
   "execution_count": 11,
   "id": "4790366b-dc37-4e95-873b-2d05b8df9b84",
   "metadata": {},
   "outputs": [
    {
     "name": "stdout",
     "output_type": "stream",
     "text": [
      "Data indexed successfully, excluding the 'Department' column.\n",
      "         Name  Age\n",
      "0    John Doe   30\n",
      "1  Jane Smith   25\n"
     ]
    }
   ],
   "source": [
    "import pandas as pd\n",
    "\n",
    "# Example of defining the indexData function\n",
    "def indexData(collection, exclude_column=None):\n",
    "    # Assuming collection is a pandas DataFrame\n",
    "    if exclude_column and exclude_column in collection.columns:\n",
    "        return collection.drop(columns=[exclude_column])\n",
    "    return collection\n",
    "\n",
    "# Sample DataFrame (simulating your employee data)\n",
    "data = {'Name': ['John Doe', 'Jane Smith'],\n",
    "        'Age': [30, 25],\n",
    "        'Department': ['HR', 'Engineering']}\n",
    "\n",
    "name_collection = pd.DataFrame(data)\n",
    "\n",
    "# Indexing the data, excluding the 'Department' column\n",
    "indexed_name_collection = indexData(name_collection, 'Department')\n",
    "\n",
    "# Print the indexed collection\n",
    "print(\"Data indexed successfully, excluding the 'Department' column.\")\n",
    "print(indexed_name_collection)\n"
   ]
  },
  {
   "cell_type": "code",
   "execution_count": 12,
   "id": "fa84874f-a8f1-4284-b09e-f3647cd5cf34",
   "metadata": {},
   "outputs": [
    {
     "data": {
      "text/plain": [
       "Index(['Name', 'Age', 'Department'], dtype='object')"
      ]
     },
     "execution_count": 12,
     "metadata": {},
     "output_type": "execute_result"
    }
   ],
   "source": [
    "data = pd.DataFrame.from_dict(data)\n",
    "data.columns\n",
    "data.keys() "
   ]
  },
  {
   "cell_type": "code",
   "execution_count": 14,
   "id": "f31bbe9b-d127-4576-a985-620217bb0102",
   "metadata": {},
   "outputs": [
    {
     "name": "stdout",
     "output_type": "stream",
     "text": [
      "Updated Employee Count (Name Collection): 2\n"
     ]
    }
   ],
   "source": [
    "# Get updated employee counts\n",
    "print(\"Updated Employee Count (Name Collection):\", getEmpCount(name_collection))"
   ]
  },
  {
   "cell_type": "code",
   "execution_count": 15,
   "id": "945ce49f-ab8b-4816-8fef-39089cddc35f",
   "metadata": {},
   "outputs": [
    {
     "name": "stdout",
     "output_type": "stream",
     "text": [
      "Employees in IT Department:\n",
      " Empty DataFrame\n",
      "Columns: [Name, Age, Department]\n",
      "Index: []\n"
     ]
    }
   ],
   "source": [
    "# Search by column\n",
    "import pandas as pd\n",
    "\n",
    "# Function to search by a column value\n",
    "def searchByColumn(collection, column_name, value):\n",
    "    # Check if the column exists in the DataFrame\n",
    "    if column_name in collection.columns:\n",
    "        return collection[collection[column_name] == value]\n",
    "    else:\n",
    "        raise KeyError(f\"Column '{column_name}' not found in the collection.\")\n",
    "\n",
    "# Example: Searching for employees in the 'IT' Department\n",
    "search_it_department = searchByColumn(name_collection, 'Department', 'IT')\n",
    "print(\"Employees in IT Department:\\n\", search_it_department)\n"
   ]
  },
  {
   "cell_type": "code",
   "execution_count": 16,
   "id": "f1325712-0294-45ad-8139-5c0800758f8b",
   "metadata": {},
   "outputs": [
    {
     "name": "stdout",
     "output_type": "stream",
     "text": [
      "<class 'pandas.core.frame.DataFrame'>\n"
     ]
    },
    {
     "data": {
      "text/plain": [
       "Index(['Name', 'Age', 'Department'], dtype='object')"
      ]
     },
     "execution_count": 16,
     "metadata": {},
     "output_type": "execute_result"
    }
   ],
   "source": [
    "print(type(data))  # Should return <class 'pandas.core.frame.DataFrame'>\n",
    "# If the data is loaded as a dictionary or misread, try this\n",
    "data = pd.DataFrame.from_dict(data)\n",
    "data.columns\n",
    "data.keys()  # To access dictionary keys\n"
   ]
  },
  {
   "cell_type": "code",
   "execution_count": 17,
   "id": "b0bc79b0-3322-4d90-a09b-9c562529e1af",
   "metadata": {},
   "outputs": [
    {
     "name": "stdout",
     "output_type": "stream",
     "text": [
      "Department Facet:\n",
      " Department\n",
      "HR             1\n",
      "Engineering    1\n",
      "Name: count, dtype: int64\n"
     ]
    }
   ],
   "source": [
    "# Get department facet\n",
    "print(\"Department Facet:\\n\", getDepFacet(name_collection))"
   ]
  },
  {
   "cell_type": "code",
   "execution_count": null,
   "id": "aa318f01-7e61-4fa9-a317-f5f4f20a8d39",
   "metadata": {},
   "outputs": [],
   "source": []
  }
 ],
 "metadata": {
  "kernelspec": {
   "display_name": "Python 3 (ipykernel)",
   "language": "python",
   "name": "python3"
  },
  "language_info": {
   "codemirror_mode": {
    "name": "ipython",
    "version": 3
   },
   "file_extension": ".py",
   "mimetype": "text/x-python",
   "name": "python",
   "nbconvert_exporter": "python",
   "pygments_lexer": "ipython3",
   "version": "3.12.4"
  }
 },
 "nbformat": 4,
 "nbformat_minor": 5
}
